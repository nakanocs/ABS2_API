{
 "cells": [
  {
   "cell_type": "markdown",
   "metadata": {
    "collapsed": false,
    "pycharm": {
     "name": "#%% md\n"
    }
   },
   "source": [
    "### Demo for the ABS2 API Wrapper"
   ]
  },
  {
   "cell_type": "markdown",
   "metadata": {
    "collapsed": false,
    "pycharm": {
     "name": "#%% md\n"
    }
   },
   "source": [
    "The ABS2 API offers a relatively simple interface for a powerful QUBO Solver.\n",
    "Through this interface, QUBOs may be sent in form of a JSON structure to the QUBO Solver to be solved."
   ]
  },
  {
   "cell_type": "markdown",
   "metadata": {
    "collapsed": false,
    "pycharm": {
     "name": "#%% md\n"
    }
   },
   "source": [
    "To use the API we have to import from **src** <i>models</i>, as well as the <i>abs2_api</i> class.\n",
    "The models package contains data models for the sending of requests and the receiving of responses.\n",
    "The abs2_api package contains the different API calls that may be executed.\n",
    "Furthermore, to unpack the later needed environment file, we need the <i>json</i> library."
   ]
  },
  {
   "cell_type": "code",
   "execution_count": 47,
   "metadata": {
    "collapsed": false,
    "pycharm": {
     "name": "#%%\n"
    }
   },
   "outputs": [
    {
     "name": "stdout",
     "output_type": "stream",
     "text": [
      "The autoreload extension is already loaded. To reload it, use:\n",
      "  %reload_ext autoreload\n"
     ]
    }
   ],
   "source": [
    "import json\n",
    "\n",
    "from PIL import Image\n",
    "import numpy as np\n",
    "\n",
    "import abs2\n",
    "from abs2 import ABS2API, ABS2Exception, models\n",
    "\n",
    "%load_ext autoreload\n",
    "%autoreload 2"
   ]
  },
  {
   "cell_type": "markdown",
   "metadata": {
    "collapsed": false,
    "pycharm": {
     "name": "#%% md\n"
    }
   },
   "source": [
    "To begin communicating with the API, we need to instantiate the ABS2API class."
   ]
  },
  {
   "cell_type": "code",
   "execution_count": 2,
   "metadata": {
    "collapsed": false,
    "pycharm": {
     "name": "#%%\n"
    }
   },
   "outputs": [],
   "source": [
    "api = ABS2API()"
   ]
  },
  {
   "cell_type": "markdown",
   "metadata": {
    "collapsed": false,
    "pycharm": {
     "name": "#%% md\n"
    }
   },
   "source": [
    "If no user has been registered with the QUBO solver so far, we can also register one.\n",
    "To do this, we need a valid email address, a username, first name, last name and affiliation.\n",
    "We can save all of this information inside a **User** object."
   ]
  },
  {
   "cell_type": "code",
   "execution_count": 3,
   "metadata": {
    "collapsed": false,
    "pycharm": {
     "name": "#%%\n"
    }
   },
   "outputs": [],
   "source": [
    "# Before running this cell, replace all the values surrounded by [] with valid usernames, emails etc.\n",
    "user = models.User(\n",
    "    username=\"<your username>\",\n",
    "    email=\"<your email>\",\n",
    "    firstname=\"<your first name>\",\n",
    "    lastname=\"<your last name>\",\n",
    "    affiliation=\"<your company>\",\n",
    ")"
   ]
  },
  {
   "cell_type": "markdown",
   "metadata": {
    "collapsed": false,
    "pycharm": {
     "name": "#%% md\n"
    }
   },
   "source": [
    "Once we have created the user object, we can now send this user object for registration to the QUBO solver.\n",
    "The solver should respond either with the status code **201** as a response for successful registration or **409** in case the email is already in use."
   ]
  },
  {
   "cell_type": "code",
   "execution_count": 4,
   "metadata": {
    "collapsed": false,
    "pycharm": {
     "name": "#%%\n"
    }
   },
   "outputs": [
    {
     "name": "stderr",
     "output_type": "stream",
     "text": [
      "method=POST, url=https://qubosolver.cs.hiroshima-u.ac.jp/v1/signup, params=None, success=False, status_code=409, message=CONFLICT\n"
     ]
    },
    {
     "name": "stdout",
     "output_type": "stream",
     "text": [
      "Status code 409: User already registered\n"
     ]
    }
   ],
   "source": [
    "try:\n",
    "    response = api.register_user(user)\n",
    "except ABS2Exception as e:\n",
    "    if e.args[0].__contains__(\"409\"):\n",
    "        print(\"Status code 409: User already registered\")"
   ]
  },
  {
   "cell_type": "markdown",
   "metadata": {
    "collapsed": false,
    "pycharm": {
     "name": "#%% md\n"
    }
   },
   "source": [
    "After successful registration of the user, the server will send a password to the email address provided during the registration process.\n",
    "The Password contained in the email should then be stored in an environment file **env**.\n",
    "This environment file should have the following format:\n",
    "```{\"username\": \"[username]\", \"password\": \"[password from email]\"}```"
   ]
  },
  {
   "cell_type": "code",
   "execution_count": 5,
   "metadata": {
    "collapsed": false,
    "pycharm": {
     "name": "#%%\n"
    }
   },
   "outputs": [],
   "source": [
    "f = open(\"./env\", \"r\")\n",
    "user_file = json.load(f)\n",
    "f.close()"
   ]
  },
  {
   "cell_type": "markdown",
   "metadata": {
    "collapsed": false,
    "pycharm": {
     "name": "#%% md\n"
    }
   },
   "source": [
    "After loading the user information into a python object, we can create a simple user model UserNP that simply contains the username and password."
   ]
  },
  {
   "cell_type": "code",
   "execution_count": 6,
   "metadata": {
    "collapsed": false,
    "pycharm": {
     "name": "#%%\n"
    }
   },
   "outputs": [],
   "source": [
    "user = models.UserNP(user_file[\"username\"], user_file[\"password\"])"
   ]
  },
  {
   "cell_type": "markdown",
   "metadata": {
    "collapsed": false,
    "pycharm": {
     "name": "#%% md\n"
    }
   },
   "source": [
    "This user object can now be used to retrieve a **Bearer Token** which is used for most future API calls."
   ]
  },
  {
   "cell_type": "code",
   "execution_count": 7,
   "metadata": {
    "collapsed": false,
    "pycharm": {
     "name": "#%%\n"
    }
   },
   "outputs": [],
   "source": [
    "tokenMessage = api.retrieve_access_token(user.username, user.password)\n",
    "token = tokenMessage.access_token"
   ]
  },
  {
   "cell_type": "markdown",
   "metadata": {
    "collapsed": false,
    "pycharm": {
     "name": "#%% md\n"
    }
   },
   "source": [
    "If we had previously uploaded a problem, we can retrieve a list of all problems that are currently stored on the server."
   ]
  },
  {
   "cell_type": "code",
   "execution_count": 8,
   "metadata": {
    "collapsed": false,
    "pycharm": {
     "name": "#%%\n"
    }
   },
   "outputs": [],
   "source": [
    "problem_list = api.get_problem_list(token)"
   ]
  },
  {
   "cell_type": "code",
   "execution_count": 9,
   "metadata": {
    "collapsed": false,
    "pycharm": {
     "name": "#%%\n"
    }
   },
   "outputs": [
    {
     "data": {
      "text/plain": [
       "[{'file': 'flower-k.json',\n",
       "  'bytes': 109666970,\n",
       "  'time': '2022-12-22 00:25:52',\n",
       "  'uri_problem': 'https://qubosolver.cs.hiroshima-u.ac.jp/v1/problems/flower-k.json'}]"
      ]
     },
     "execution_count": 9,
     "metadata": {},
     "output_type": "execute_result"
    }
   ],
   "source": [
    "problem_list.data"
   ]
  },
  {
   "cell_type": "markdown",
   "metadata": {
    "collapsed": false,
    "pycharm": {
     "name": "#%% md\n"
    }
   },
   "source": [
    "If we haven't uploaded our specific problem yet, we can do so by using the **post_qubo_matrix** method.\n",
    "This method takes the **Bearer token** from before, as well as the name of a file which contains the problem that is to be solved by the QUBO solver.\n",
    "The file structure of the file has to be as follows:\n",
    "```\n",
    "{\n",
    "    \"file\": [name of the file as it will be saved on the server],\n",
    "    \"nbit\":32,\n",
    "    \"base\":0,\n",
    "    \"qubo\":[\n",
    "        [0,0,2],\n",
    "        [0,1,2],\n",
    "        [0,2,-3],\n",
    "        [0,4,4],\n",
    "        [1,1,1],\n",
    "        [1,2,-2],\n",
    "        [1,3,-2],\n",
    "        [2,2,-2],\n",
    "        [2,3,-4],\n",
    "        [3,3,5],\n",
    "        [3,4,1],\n",
    "        [4,4,-4]\n",
    "        ]\n",
    "}\n",
    "```"
   ]
  },
  {
   "cell_type": "markdown",
   "metadata": {
    "collapsed": false,
    "pycharm": {
     "name": "#%% md\n"
    }
   },
   "source": [
    "In this demo we will be using the <i>flower.json.gz</i> problem file to benchmark the QUBO solver.\n",
    "The problem is designed to obtain a binary image that reproduces a grey scale image <i>flower-k.png</i>."
   ]
  },
  {
   "cell_type": "markdown",
   "metadata": {
    "collapsed": false,
    "pycharm": {
     "name": "#%% md\n"
    }
   },
   "source": [
    "<center>\n",
    "<table style=\"border-collapse:collapse\">\n",
    "    <tr>\n",
    "        <td><img src=\"./flower-k.png\" alt=\"flower-k\"></td><td><img src=\"./flower-k-optimal.png\" alt=\"flower-k-optimal\"></td>\n",
    "    </tr>\n",
    "    <tr>\n",
    "        <td><center>flower-k</center></td><td><center>flower-k-optimal</center></td>\n",
    "    </tr>\n",
    " </table>\n",
    " </center>"
   ]
  },
  {
   "cell_type": "markdown",
   "metadata": {
    "collapsed": false,
    "pycharm": {
     "name": "#%% md\n"
    }
   },
   "source": [
    "By arranging the 65536-bit solution in a 256x256 matrix such that 0/1 are black/white pixels a binary image can be obtained.\n",
    "The <i>flower-k</i> problem has a known optimal solution with energy -225466781."
   ]
  },
  {
   "cell_type": "code",
   "execution_count": null,
   "metadata": {},
   "outputs": [],
   "source": [
    "# First we obtain a test dataset\n",
    "\n",
    "from urllib.request import urlretrieve\n",
    "import gzip\n",
    "\n",
    "# download file\n",
    "sample_file = \"https://raw.githubusercontent.com/nakanocs/ABS2WebAPI/main/halftoning/flower-k.json.gz\"\n",
    "urlretrieve(sample_file, \"./flower-k.json.gz\")\n",
    "\n",
    "# Decompress using python standard library\n",
    "with open(\"./flower-k.json.gz\", \"rb\") as f:\n",
    "    data = f.read()\n",
    "with open(\"./flower-k.json\", \"wb\") as f:\n",
    "    f.write(gzip.decompress(data))"
   ]
  },
  {
   "cell_type": "markdown",
   "metadata": {
    "collapsed": false,
    "pycharm": {
     "name": "#%% md\n"
    }
   },
   "source": [
    "To upload this problem to the QUBO solver, we make use of the <i>post_qubo_matrix</i> method."
   ]
  },
  {
   "cell_type": "code",
   "execution_count": 10,
   "metadata": {
    "collapsed": false,
    "pycharm": {
     "name": "#%%\n"
    }
   },
   "outputs": [],
   "source": [
    "post_response = api.post_qubo_matrix(token, \"flower-k.json\")"
   ]
  },
  {
   "cell_type": "code",
   "execution_count": 11,
   "metadata": {
    "collapsed": false,
    "pycharm": {
     "name": "#%%\n"
    }
   },
   "outputs": [
    {
     "data": {
      "text/plain": [
       "'flower-k.json'"
      ]
     },
     "execution_count": 11,
     "metadata": {},
     "output_type": "execute_result"
    }
   ],
   "source": [
    "post_response.file"
   ]
  },
  {
   "cell_type": "markdown",
   "metadata": {
    "collapsed": false,
    "pycharm": {
     "name": "#%% md\n"
    }
   },
   "source": [
    "After the upload of the problem file is complete, the server will try to verify the integrity of the problem.\n",
    "The current progress of the verification can be queried by using the **get_qubo_matrix_information** method."
   ]
  },
  {
   "cell_type": "code",
   "execution_count": 12,
   "metadata": {
    "collapsed": false,
    "pycharm": {
     "name": "#%%\n"
    }
   },
   "outputs": [
    {
     "data": {
      "text/plain": [
       "True"
      ]
     },
     "execution_count": 12,
     "metadata": {},
     "output_type": "execute_result"
    }
   ],
   "source": [
    "info_response = api.get_qubo_matrix_information(token, \"flower-k.json\")\n",
    "info_response.verify"
   ]
  },
  {
   "cell_type": "markdown",
   "metadata": {
    "collapsed": false,
    "pycharm": {
     "name": "#%% md\n"
    }
   },
   "source": [
    "In case we are not sure what exactly the file name on the server side is, we can query to get all currently uploaded problems again:"
   ]
  },
  {
   "cell_type": "code",
   "execution_count": 13,
   "metadata": {
    "collapsed": false,
    "pycharm": {
     "name": "#%%\n"
    }
   },
   "outputs": [
    {
     "data": {
      "text/plain": [
       "[{'file': 'flower-k.json',\n",
       "  'bytes': 109666970,\n",
       "  'time': '2022-12-22 00:28:00',\n",
       "  'uri_problem': 'https://qubosolver.cs.hiroshima-u.ac.jp/v1/problems/flower-k.json'}]"
      ]
     },
     "execution_count": 13,
     "metadata": {},
     "output_type": "execute_result"
    }
   ],
   "source": [
    "problem_list = api.get_problem_list(token)\n",
    "problem_list.data"
   ]
  },
  {
   "cell_type": "markdown",
   "metadata": {
    "collapsed": false,
    "pycharm": {
     "name": "#%% md\n"
    }
   },
   "source": [
    "Once the verification of the problem finishes, the **post_job** method can be used to start the QUBO solver.\n",
    "The solver will try to find the best solution to the given problem within a given **time_limit**.\n",
    "As soon as the solver starts a job, the job file will be moved from the job directory to the solution directory on the server."
   ]
  },
  {
   "cell_type": "code",
   "execution_count": 31,
   "metadata": {
    "collapsed": false,
    "pycharm": {
     "name": "#%%\n"
    }
   },
   "outputs": [
    {
     "data": {
      "text/plain": [
       "'job for [flower-k.json] submitted successfully'"
      ]
     },
     "execution_count": 31,
     "metadata": {},
     "output_type": "execute_result"
    }
   ],
   "source": [
    "response = api.post_job(token, \"flower-k.json\", 600)\n",
    "response.message"
   ]
  },
  {
   "cell_type": "markdown",
   "metadata": {
    "collapsed": false,
    "pycharm": {
     "name": "#%% md\n"
    }
   },
   "source": [
    "To assert that the file has been moved and the solver has started working on the problem we can use the **get_all_jobs** method.\n",
    "Assuming that the job list before only contained the job we had uploaded, this should now be an empty list []."
   ]
  },
  {
   "cell_type": "code",
   "execution_count": 32,
   "metadata": {
    "collapsed": false,
    "pycharm": {
     "name": "#%%\n"
    }
   },
   "outputs": [
    {
     "data": {
      "text/plain": [
       "[{'file': 'flower-k_0002.json',\n",
       "  'bytes': 349,\n",
       "  'time': '2022-12-22 00:35:29',\n",
       "  'uri_job': 'https://qubosolver.cs.hiroshima-u.ac.jp/v1/jobs/flower-k_0002.json'}]"
      ]
     },
     "execution_count": 32,
     "metadata": {},
     "output_type": "execute_result"
    }
   ],
   "source": [
    "job_list = api.get_all_jobs(token)\n",
    "job_list.data"
   ]
  },
  {
   "cell_type": "markdown",
   "metadata": {
    "collapsed": false,
    "pycharm": {
     "name": "#%% md\n"
    }
   },
   "source": [
    "Finally, we want to see if a viable solution has been found.\n",
    "The solver works by cycling over all currently active jobs.\n",
    "If the solver finds a better solution than the current one, the current solution will be overwritten with the better solution."
   ]
  },
  {
   "cell_type": "code",
   "execution_count": 33,
   "metadata": {
    "collapsed": false,
    "pycharm": {
     "name": "#%%\n"
    }
   },
   "outputs": [
    {
     "data": {
      "text/plain": [
       "[{'file': 'flower-k_0001.json',\n",
       "  'bytes': 131426,\n",
       "  'time': '2022-12-22 00:35:37',\n",
       "  'uri_solution': 'https://qubosolver.cs.hiroshima-u.ac.jp/v1/solutions/flower-k_0001.json'}]"
      ]
     },
     "execution_count": 33,
     "metadata": {},
     "output_type": "execute_result"
    }
   ],
   "source": [
    "solution_list = api.get_all_solutions(token)\n",
    "solution_list.data"
   ]
  },
  {
   "cell_type": "markdown",
   "metadata": {
    "collapsed": false,
    "pycharm": {
     "name": "#%% md\n"
    }
   },
   "source": [
    "After finding a best solution or hitting the hard time limit, the solver stops and the solution can be retrieved by its name with the **get_solution** method."
   ]
  },
  {
   "cell_type": "code",
   "execution_count": 34,
   "metadata": {
    "collapsed": false,
    "pycharm": {
     "name": "#%%\n"
    }
   },
   "outputs": [],
   "source": [
    "response = api.get_solution(token, \"flower-k_0001.json\")"
   ]
  },
  {
   "cell_type": "markdown",
   "metadata": {
    "collapsed": false,
    "pycharm": {
     "name": "#%% md\n"
    }
   },
   "source": [
    "We now have to convert the solution contained in the response into a numpy array"
   ]
  },
  {
   "cell_type": "code",
   "execution_count": null,
   "metadata": {
    "collapsed": false,
    "pycharm": {
     "name": "#%%\n"
    }
   },
   "outputs": [],
   "source": [
    "pixels = np.array(response.solution, dtype=np.uint0)"
   ]
  },
  {
   "cell_type": "markdown",
   "metadata": {
    "collapsed": false,
    "pycharm": {
     "name": "#%% md\n"
    }
   },
   "source": [
    "Since the pixels are currently in the form of a one dimensional array, we have to adjust the shape into a 256x256 array"
   ]
  },
  {
   "cell_type": "code",
   "execution_count": null,
   "metadata": {
    "collapsed": false,
    "pycharm": {
     "name": "#%%\n"
    }
   },
   "outputs": [],
   "source": [
    "pixels = pixels.reshape((256, 256)).T"
   ]
  },
  {
   "cell_type": "markdown",
   "metadata": {
    "collapsed": false,
    "pycharm": {
     "name": "#%% md\n"
    }
   },
   "source": [
    "Next, we create an emtpy, binary image with a size of 256x256 pixels using the <i>Image.new()</i> method and load the pixels"
   ]
  },
  {
   "cell_type": "code",
   "execution_count": null,
   "metadata": {
    "collapsed": false,
    "pycharm": {
     "name": "#%%\n"
    }
   },
   "outputs": [],
   "source": [
    "image = Image.new(\"1\", (256, 256))\n",
    "image_pixels = image.load()"
   ]
  },
  {
   "cell_type": "markdown",
   "metadata": {
    "collapsed": false,
    "pycharm": {
     "name": "#%% md\n"
    }
   },
   "source": [
    "Once we have loaded the pixels of the image, we iterate over them one by one and replace them with the pixel values that were contained in the solution of the QUBO solver"
   ]
  },
  {
   "cell_type": "code",
   "execution_count": null,
   "metadata": {
    "collapsed": false,
    "pycharm": {
     "name": "#%%\n"
    }
   },
   "outputs": [],
   "source": [
    "for i in range(image.size[0]):\n",
    "    for j in range(image.size[1]):\n",
    "        image_pixels[i, j] = int(pixels[i][j])"
   ]
  },
  {
   "cell_type": "markdown",
   "metadata": {
    "collapsed": false,
    "pycharm": {
     "name": "#%% md\n"
    }
   },
   "source": [
    "Lastly we can compare the solution of the solver with the optimal solution:"
   ]
  },
  {
   "cell_type": "code",
   "execution_count": null,
   "metadata": {
    "collapsed": false,
    "pycharm": {
     "name": "#%%\n"
    }
   },
   "outputs": [],
   "source": [
    "image.save(\"./flower-k-solution.png\")"
   ]
  },
  {
   "cell_type": "markdown",
   "metadata": {
    "collapsed": false,
    "pycharm": {
     "name": "#%% md\n"
    }
   },
   "source": [
    "The comparison below shows the solution of the QUBO solver on the left and the optimal solution on the right"
   ]
  },
  {
   "cell_type": "markdown",
   "metadata": {
    "collapsed": false,
    "pycharm": {
     "name": "#%% md\n"
    }
   },
   "source": [
    "<center>\n",
    "<table style=\"border-collapse:collapse\">\n",
    "    <tr>\n",
    "        <td><img src=\"./flower-k-solution.png\" alt=\"flower-k-solution\"></td><td><img src=\"./flower-k-optimal.png\" alt=\"flower-k-optimal\"></td>\n",
    "    </tr>\n",
    "    <tr>\n",
    "        <td><center>flower-k-solution</center></td><td><center>flower-k-optimal</center></td>\n",
    "    </tr>\n",
    " </table>\n",
    " </center>"
   ]
  },
  {
   "cell_type": "markdown",
   "metadata": {},
   "source": [
    "## Upload PyQUBO Problem"
   ]
  },
  {
   "cell_type": "code",
   "execution_count": null,
   "metadata": {},
   "outputs": [],
   "source": [
    "%pip install pyqubo"
   ]
  },
  {
   "cell_type": "code",
   "execution_count": 39,
   "metadata": {},
   "outputs": [
    {
     "data": {
      "text/plain": [
       "'[bwewmborce.json] uploaded'"
      ]
     },
     "execution_count": 39,
     "metadata": {},
     "output_type": "execute_result"
    }
   ],
   "source": [
    "from pyqubo import Spin\n",
    "\n",
    "s1, s2, s3, s4 = Spin(\"s1\"), Spin(\"s2\"), Spin(\"s3\"), Spin(\"s4\")\n",
    "H = (4 * s1 + 2 * s2 + 7 * s3 + s4) ** 2\n",
    "model = H.compile()\n",
    "qubo, offset = model.to_qubo()\n",
    "\n",
    "matrix_response = api.post_pyqubo_matrix(token, qubo=qubo)\n",
    "matrix_response.message"
   ]
  },
  {
   "cell_type": "code",
   "execution_count": 44,
   "metadata": {},
   "outputs": [],
   "source": [
    "res = api.get_qubo_matrix_information(token, matrix_response.file)\n",
    "assert res.verify, \"Job could not be verified.\""
   ]
  },
  {
   "cell_type": "code",
   "execution_count": 61,
   "metadata": {},
   "outputs": [
    {
     "data": {
      "text/plain": [
       "'job for [bwewmborce.json] submitted successfully'"
      ]
     },
     "execution_count": 61,
     "metadata": {},
     "output_type": "execute_result"
    }
   ],
   "source": [
    "job_response = api.post_job(token, matrix_response.file, 600)\n",
    "job_response.message"
   ]
  },
  {
   "cell_type": "code",
   "execution_count": 72,
   "metadata": {},
   "outputs": [
    {
     "data": {
      "text/plain": [
       "[{'file': 'bwewmborce_0004.json',\n",
       "  'bytes': 348,\n",
       "  'time': '2022-12-22 00:49:21',\n",
       "  'uri_job': 'https://qubosolver.cs.hiroshima-u.ac.jp/v1/jobs/bwewmborce_0004.json'}]"
      ]
     },
     "execution_count": 72,
     "metadata": {},
     "output_type": "execute_result"
    }
   ],
   "source": [
    "api.get_all_jobs(token).data"
   ]
  },
  {
   "cell_type": "code",
   "execution_count": 73,
   "metadata": {},
   "outputs": [
    {
     "data": {
      "text/plain": [
       "[{'file': 'bwewmborce_0003.json',\n",
       "  'bytes': 415,\n",
       "  'time': '2022-12-22 00:50:23',\n",
       "  'uri_solution': 'https://qubosolver.cs.hiroshima-u.ac.jp/v1/solutions/bwewmborce_0003.json'},\n",
       " {'file': 'flower-k_0001.json',\n",
       "  'bytes': 131471,\n",
       "  'time': '2022-12-22 00:39:09',\n",
       "  'uri_solution': 'https://qubosolver.cs.hiroshima-u.ac.jp/v1/solutions/flower-k_0001.json'},\n",
       " {'file': 'flower-k_0002.json',\n",
       "  'bytes': 131472,\n",
       "  'time': '2022-12-22 00:50:18',\n",
       "  'uri_solution': 'https://qubosolver.cs.hiroshima-u.ac.jp/v1/solutions/flower-k_0002.json'}]"
      ]
     },
     "execution_count": 73,
     "metadata": {},
     "output_type": "execute_result"
    }
   ],
   "source": [
    "api.get_all_solutions(token).data"
   ]
  },
  {
   "cell_type": "code",
   "execution_count": 83,
   "metadata": {},
   "outputs": [
    {
     "data": {
      "text/plain": [
       "{'s2': 0, 's1': 0, 's3': 1, 's4': 0}"
      ]
     },
     "execution_count": 83,
     "metadata": {},
     "output_type": "execute_result"
    }
   ],
   "source": [
    "sol_response = api.get_solution(token, \"bwewmborce_0003.json\")\n",
    "sol = matrix_response.decode_solution(sol_response.solution)\n",
    "sol"
   ]
  },
  {
   "cell_type": "code",
   "execution_count": null,
   "metadata": {},
   "outputs": [],
   "source": []
  }
 ],
 "metadata": {
  "kernelspec": {
   "display_name": "Python 3.11.0 ('abs2')",
   "language": "python",
   "name": "python3"
  },
  "language_info": {
   "codemirror_mode": {
    "name": "ipython",
    "version": 3
   },
   "file_extension": ".py",
   "mimetype": "text/x-python",
   "name": "python",
   "nbconvert_exporter": "python",
   "pygments_lexer": "ipython3",
   "version": "3.11.0"
  },
  "vscode": {
   "interpreter": {
    "hash": "dbba00251a99d9bdebbc0497fa62e8b1bc98e3124c2886435e57afd0d462d3d7"
   }
  }
 },
 "nbformat": 4,
 "nbformat_minor": 0
}
